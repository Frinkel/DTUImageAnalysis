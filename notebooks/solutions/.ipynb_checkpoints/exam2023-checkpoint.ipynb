{
 "cells": [
  {
   "cell_type": "code",
   "execution_count": null,
   "id": "86be1e5a-4dc7-46ca-b9f7-8cb971a76b83",
   "metadata": {
    "tags": []
   },
   "outputs": [],
   "source": [
    "# Exam 2023 may - Joel A. V. Madsen (s194580)\n",
    "# Imports - exercise 9\n",
    "from skimage import color, io, measure, img_as_ubyte\n",
    "from skimage.measure import profile_line\n",
    "from skimage.transform import rescale, resize\n",
    "import matplotlib.pyplot as plt\n",
    "import numpy as np\n",
    "import time\n",
    "import cv2\n",
    "from scipy.ndimage import correlate\n",
    "from skimage.filters import median\n",
    "from skimage.filters import prewitt_h, prewitt_v, prewitt\n",
    "from skimage.filters import gaussian\n",
    "from skimage import data, filters\n",
    "from skimage.color import rgb2gray\n",
    "from skimage.morphology import erosion, dilation, opening, closing, disk\n",
    "from skimage.util import img_as_float\n",
    "from skimage.filters import threshold_otsu\n",
    "from skimage import io, color, morphology\n",
    "from skimage.util import img_as_ubyte\n",
    "import math\n",
    "from skimage import segmentation\n",
    "from skimage import measure\n",
    "from skimage.color import label2rgb\n",
    "from skimage.transform import rotate, EuclideanTransform, SimilarityTransform, warp, swirl, matrix_transform\n",
    "import glob\n",
    "from sklearn.decomposition import PCA\n",
    "import os\n",
    "import pathlib\n",
    "\n",
    "from auxiliaryFuns import *\n",
    "\n",
    "import matplotlib.pyplot as plt\n",
    "import SimpleITK as sitk\n",
    "from IPython.display import clear_output\n",
    "\n",
    "from skimage.morphology import binary_closing, binary_opening\n",
    "import pydicom as dicom\n",
    "from scipy.stats import norm\n",
    "from scipy.spatial import distance\n",
    "\n",
    "import pandas as pd\n",
    "import seaborn as sns\n"
   ]
  },
  {
   "cell_type": "code",
   "execution_count": 2,
   "id": "ff8ef650-5168-4de8-b9eb-d782e1f20080",
   "metadata": {
    "tags": []
   },
   "outputs": [],
   "source": [
    "def plot_comparison(original, filtered, filter_name):\n",
    "    fig, (ax1, ax2) = plt.subplots(ncols=2, figsize=(8, 4), sharex=True,\n",
    "                                   sharey=True)\n",
    "    ax1.imshow(original, cmap=plt.cm.gray)\n",
    "    ax1.set_title('original')\n",
    "    ax1.axis('off')\n",
    "    ax2.imshow(filtered, cmap=plt.cm.gray)\n",
    "    ax2.set_title(filter_name)\n",
    "    ax2.axis('off')\n",
    "    io.show()"
   ]
  },
  {
   "cell_type": "code",
   "execution_count": null,
   "id": "6c4ee6b1-8f74-4d06-914f-e2d0bfeb5f7b",
   "metadata": {},
   "outputs": [],
   "source": []
  }
 ],
 "metadata": {
  "kernelspec": {
   "display_name": "Python 3 (ipykernel)",
   "language": "python",
   "name": "python3"
  },
  "language_info": {
   "codemirror_mode": {
    "name": "ipython",
    "version": 3
   },
   "file_extension": ".py",
   "mimetype": "text/x-python",
   "name": "python",
   "nbconvert_exporter": "python",
   "pygments_lexer": "ipython3",
   "version": "3.7.9"
  }
 },
 "nbformat": 4,
 "nbformat_minor": 5
}
