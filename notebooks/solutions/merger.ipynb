{
 "cells": [
  {
   "cell_type": "code",
   "execution_count": 1,
   "id": "38c46837-9b3e-462d-aaf3-d5e4f0a4262c",
   "metadata": {},
   "outputs": [
    {
     "name": "stderr",
     "output_type": "stream",
     "text": [
      "D:\\Program Files (x86)\\AnacondaNew\\lib\\site-packages\\nbformat\\__init__.py:128: MissingIDFieldWarning: Code cell is missing an id field, this will become a hard error in future nbformat versions. You may want to use `normalize()` on your notebooks before validations (available since nbformat 5.1.4). Previous versions of nbformat are fixing this issue transparently, and will stop doing so in the future.\n",
      "  validate(nb)\n"
     ]
    }
   ],
   "source": [
    "import nbformat as nbf\n",
    "\n",
    "notebook_paths = [\n",
    "    'Exercise1.ipynb',\n",
    "    'Exercise1b.ipynb',\n",
    "    'Exercise2.ipynb',\n",
    "    'Exercise3.ipynb',\n",
    "    'Ex4a_image_filtering.ipynb',\n",
    "    'Ex4b_ImageMorphology.ipynb',\n",
    "    'Exercise5.ipynb',\n",
    "    'Exercise6.ipynb',\n",
    "    'Exercise6_updated.ipynb',\n",
    "    'Exercise7.ipynb',\n",
    "    'Ex8.ipynb',\n",
    "    'Exercise9_updated.ipynb'\n",
    "]\n",
    "\n",
    "merged_notebook = nbf.v4.new_notebook()\n",
    "\n",
    "for path in notebook_paths:\n",
    "    with open(path, 'r', encoding='utf-8') as f:\n",
    "        notebook = nbf.read(f, as_version=4)\n",
    "    merged_notebook.cells.extend(notebook.cells)\n",
    "\n",
    "output_path = 'merged.ipynb'\n",
    "\n",
    "with open(output_path, 'w', encoding='utf-8') as f:\n",
    "    nbf.write(merged_notebook, f)\n"
   ]
  },
  {
   "cell_type": "code",
   "execution_count": null,
   "id": "a584ea64-c36f-4aaf-bb9d-613b3199b119",
   "metadata": {},
   "outputs": [],
   "source": []
  }
 ],
 "metadata": {
  "kernelspec": {
   "display_name": "Python 3 (ipykernel)",
   "language": "python",
   "name": "python3"
  },
  "language_info": {
   "codemirror_mode": {
    "name": "ipython",
    "version": 3
   },
   "file_extension": ".py",
   "mimetype": "text/x-python",
   "name": "python",
   "nbconvert_exporter": "python",
   "pygments_lexer": "ipython3",
   "version": "3.9.13"
  }
 },
 "nbformat": 4,
 "nbformat_minor": 5
}
